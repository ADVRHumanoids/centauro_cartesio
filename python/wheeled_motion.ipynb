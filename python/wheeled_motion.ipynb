{
 "cells": [
  {
   "cell_type": "markdown",
   "metadata": {},
   "source": [
    "# Wheel-enabled whole body control for Centauro\n",
    "This notebook walks you through an example of how to command Centauro in a whole body fashion, \n",
    "also taking into account the ability to spin and steer its wheels. The user only needs to provide\n",
    "Cartesian-space references through the Cartesio2.0 API. In this notebook, the Python ROS Client\n",
    "will be used, but the analogous C++ client, or even raw topics are also an option.\n",
    "\n",
    "## Running the robot \n",
    "If you want to send actual commands to the simulated robot, you launch the Gazebo simulator with\n",
    "```\n",
    "roslaunch centauro_gazebo centauro_world.launch\n",
    "```\n",
    "Afterwards, you usually run the *Homing* module with \n",
    "```\n",
    "rosservice call /xbotcore/HomingExample_switch true\n",
    "```\n",
    "and\n",
    "finally enable joint-space control via ros with \n",
    "```\n",
    "rosservice call /xbotcore/HomingExample_switch false\n",
    "rosservice call /xbotcore/XBotCommunicationPlugin_switch true\n",
    "```\n",
    "\n",
    "All the steps above can be avoided, in which case you only visualize the inverse kinematics solution in RViz.\n",
    "\n",
    "## Running the controller\n",
    "Just fire off the following\n",
    "```\n",
    "mon launch centauro_cartesio centauro_car_model.launch\n",
    "```\n",
    "Check that the controller is running by checking whether `rostopic echo /cartesian/solution` is outputting\n",
    "a meaningful robot initial position.\n",
    "\n",
    "## Visualization and interaction in Rviz\n",
    "```\n",
    "rviz -d `rospack find centauro_cartesio`/configs/rviz/centauro_wheeled.rviz\n",
    "```\n",
    "To use the interactive marker, you\n",
    " - right click on it and select *continuous mode*\n",
    " - drag around\n",
    " \n",
    "## Programmatic control\n",
    "We now use the CartesIO Python ROS Client library to control the robot from the code. First, we import the library and create the ROS client."
   ]
  },
  {
   "cell_type": "code",
   "execution_count": 1,
   "metadata": {},
   "outputs": [],
   "source": [
    "from cartesian_interface.pyci_all import *\n",
    "\n",
    "cli = pyci.CartesianInterfaceRos()"
   ]
  },
  {
   "cell_type": "markdown",
   "metadata": {},
   "source": [
    "By printing it, it's possible to inspect which tasks are available"
   ]
  },
  {
   "cell_type": "code",
   "execution_count": 2,
   "metadata": {},
   "outputs": [
    {
     "name": "stdout",
     "output_type": "stream",
     "text": [
      "CartesianInterfaceRos running inside ROS node /cartesio_ros_1587738045897279984\n",
      "Defined tasks: \n",
      " - \u001b[1mcar_frame\u001b[0m\n",
      " - \u001b[1mwheel_1\u001b[0m\n",
      " - \u001b[1mwheel_2\u001b[0m\n",
      " - \u001b[1mwheel_4\u001b[0m\n",
      " - \u001b[1mwheel_3\u001b[0m\n",
      " - \u001b[1msteering_wheel_1\u001b[0m\n",
      " - \u001b[1msteering_wheel_2\u001b[0m\n",
      " - \u001b[1msteering_wheel_3\u001b[0m\n",
      " - \u001b[1msteering_wheel_4\u001b[0m\n",
      " - \u001b[1marm1_8\u001b[0m\n",
      " - \u001b[1marm2_8\u001b[0m\n",
      " - \u001b[1mpelvis\u001b[0m\n",
      " - \u001b[1mrolling_wheel_1\u001b[0m\n",
      " - \u001b[1mrolling_wheel_2\u001b[0m\n",
      " - \u001b[1mrolling_wheel_3\u001b[0m\n",
      " - \u001b[1mrolling_wheel_4\u001b[0m\n",
      " - \u001b[1mankle1_1\u001b[0m\n",
      " - \u001b[1mankle1_2\u001b[0m\n",
      " - \u001b[1mankle1_4\u001b[0m\n",
      " - \u001b[1mankle1_3\u001b[0m\n",
      " - \u001b[1mPostural\u001b[0m\n",
      " - \u001b[1mJointLimits\u001b[0m\n",
      " - \u001b[1mVelocityLimits\u001b[0m\n",
      "\n"
     ]
    }
   ],
   "source": [
    "print(cli)"
   ]
  },
  {
   "cell_type": "markdown",
   "metadata": {},
   "source": [
    "Let us focus on **car_frame**. It provides a virtual frame of reference that is useful to control\n",
    "the global position of the robot. For instance, the following code advances the robot by 1m"
   ]
  },
  {
   "cell_type": "code",
   "execution_count": 3,
   "metadata": {},
   "outputs": [
    {
     "data": {
      "text/plain": [
       "True"
      ]
     },
     "execution_count": 3,
     "metadata": {},
     "output_type": "execute_result"
    }
   ],
   "source": [
    "car = cli.getTask('car_frame')\n",
    "cli.update()  # receive updated information from ROS\n",
    "T, _, _ = car.getPoseReference()  # get current pose reference \n",
    "T.translation_ref()[0] += 1.0  # increment x coordinate by 1m\n",
    "car.setPoseTarget(T, 5.0)  # command to go to T in 5 secs"
   ]
  },
  {
   "cell_type": "markdown",
   "metadata": {},
   "source": [
    "To see that steering and rolling of the wheels is being taken into account, command a rotation"
   ]
  },
  {
   "cell_type": "code",
   "execution_count": 4,
   "metadata": {},
   "outputs": [
    {
     "data": {
      "text/plain": [
       "True"
      ]
     },
     "execution_count": 4,
     "metadata": {},
     "output_type": "execute_result"
    }
   ],
   "source": [
    "cli.update()  # receive updated information from ROS\n",
    "T, _, _ = car.getPoseReference()  # get current pose reference\n",
    "T.quaternion = [0, 0, 1, 1] # set some rotation as quaternion (will be automatically normalized)\n",
    "car.setPoseTarget(T, 5.0)  # command to go to T in 5 secs"
   ]
  },
  {
   "cell_type": "markdown",
   "metadata": {},
   "source": [
    "Other interesting tasks are\n",
    " - **pelvis** which allows for local control of the trunk of the robot\n",
    " - **arm1_8** and **arm2_8** for local control of the hands \n",
    " \n",
    "If we want to globally control a hand, we modify its base link on the fly..."
   ]
  },
  {
   "cell_type": "code",
   "execution_count": 5,
   "metadata": {},
   "outputs": [
    {
     "data": {
      "text/plain": [
       "True"
      ]
     },
     "execution_count": 5,
     "metadata": {},
     "output_type": "execute_result"
    }
   ],
   "source": [
    "larm = cli.getTask('arm1_8')\n",
    "larm.setBaseLink('world')"
   ]
  },
  {
   "cell_type": "markdown",
   "metadata": {},
   "source": [
    "## Further information...\n",
    "... on how to use the Cartesio2.0 API can be found [here](https://advrhumanoids.github.io/CartesianInterface/)"
   ]
  },
  {
   "cell_type": "code",
   "execution_count": null,
   "metadata": {},
   "outputs": [],
   "source": []
  }
 ],
 "metadata": {
  "kernelspec": {
   "display_name": "Python 2",
   "language": "python",
   "name": "python2"
  },
  "language_info": {
   "codemirror_mode": {
    "name": "ipython",
    "version": 2
   },
   "file_extension": ".py",
   "mimetype": "text/x-python",
   "name": "python",
   "nbconvert_exporter": "python",
   "pygments_lexer": "ipython2",
   "version": "2.7.12"
  }
 },
 "nbformat": 4,
 "nbformat_minor": 4
}
